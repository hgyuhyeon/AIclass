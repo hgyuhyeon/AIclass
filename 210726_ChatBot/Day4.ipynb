{
 "cells": [
  {
   "cell_type": "code",
   "execution_count": 1,
   "id": "bcc599e2",
   "metadata": {},
   "outputs": [],
   "source": [
    "# DNN(작은 의미의 딥러닝) 실습"
   ]
  },
  {
   "cell_type": "raw",
   "id": "cc096cdf",
   "metadata": {},
   "source": [
    "[ tensorflow 설치 ]\n",
    "시작 > anaconda 3 > Anaconda Prompt(anaconda3)\n",
    "\n",
    "# NVidia GPU 가 있는 사람\n",
    "conda install tensorflow-gpu\n",
    "\n",
    "# NVidia GPU 가 없는 사람\n",
    "conda install tensorflow\n",
    "\n",
    "y : 설치\n",
    "n : 취소"
   ]
  },
  {
   "cell_type": "code",
   "execution_count": 2,
   "id": "c3c42939",
   "metadata": {},
   "outputs": [],
   "source": [
    "import tensorflow"
   ]
  },
  {
   "cell_type": "code",
   "execution_count": 3,
   "id": "4da12065",
   "metadata": {},
   "outputs": [],
   "source": [
    "mnist = tensorflow.keras.datasets.mnist"
   ]
  },
  {
   "cell_type": "code",
   "execution_count": 4,
   "id": "cec0b5c8",
   "metadata": {},
   "outputs": [],
   "source": [
    "(x_train, y_train), (x_test, y_test) = mnist.load_data() "
   ]
  },
  {
   "cell_type": "code",
   "execution_count": 5,
   "id": "a6f864b4",
   "metadata": {},
   "outputs": [
    {
     "data": {
      "text/plain": [
       "(60000, 28, 28)"
      ]
     },
     "execution_count": 5,
     "metadata": {},
     "output_type": "execute_result"
    }
   ],
   "source": [
    "x_train.shape"
   ]
  },
  {
   "cell_type": "code",
   "execution_count": 6,
   "id": "72e384da",
   "metadata": {},
   "outputs": [],
   "source": [
    "import numpy as np"
   ]
  },
  {
   "cell_type": "code",
   "execution_count": 7,
   "id": "e52cdc4e",
   "metadata": {},
   "outputs": [],
   "source": [
    "# numpy float 출력 옵션 변경\n",
    "np.set_printoptions(formatter={'float_kind': lambda x:f\"{x:0.3f}\"})"
   ]
  },
  {
   "cell_type": "code",
   "execution_count": 8,
   "id": "1f7fb4fd",
   "metadata": {},
   "outputs": [],
   "source": [
    "np.set_printoptions(linewidth=1000)"
   ]
  },
  {
   "cell_type": "code",
   "execution_count": 9,
   "id": "4b954c54",
   "metadata": {},
   "outputs": [
    {
     "data": {
      "text/plain": [
       "array([[  0,   0,   0,   0,   0,   0,   0,   0,   0,   0,   0,   0,   0,   0,   0,   0,   0,   0,   0,   0,   0,   0,   0,   0,   0,   0,   0,   0],\n",
       "       [  0,   0,   0,   0,   0,   0,   0,   0,   0,   0,   0,   0,   0,   0,   0,   0,   0,   0,   0,   0,   0,   0,   0,   0,   0,   0,   0,   0],\n",
       "       [  0,   0,   0,   0,   0,   0,   0,   0,   0,   0,   0,   0,   0,   0,   0,   0,   0,   0,   0,   0,   0,   0,   0,   0,   0,   0,   0,   0],\n",
       "       [  0,   0,   0,   0,   0,   0,   0,   0,   0,   0,   0,   0,   0,   0,   0,   0,   0,   0,   0,   0,   0,   0,   0,   0,   0,   0,   0,   0],\n",
       "       [  0,   0,   0,   0,   0,   0,   0,   0,   0,   0,   0,   0,   0,   0,   0,   0,   0,   0,   0,   0,   0,   0,   0,   0,   0,   0,   0,   0],\n",
       "       [  0,   0,   0,   0,   0,   0,   0,   0,   0,   0,   0,   0,   3,  18,  18,  18, 126, 136, 175,  26, 166, 255, 247, 127,   0,   0,   0,   0],\n",
       "       [  0,   0,   0,   0,   0,   0,   0,   0,  30,  36,  94, 154, 170, 253, 253, 253, 253, 253, 225, 172, 253, 242, 195,  64,   0,   0,   0,   0],\n",
       "       [  0,   0,   0,   0,   0,   0,   0,  49, 238, 253, 253, 253, 253, 253, 253, 253, 253, 251,  93,  82,  82,  56,  39,   0,   0,   0,   0,   0],\n",
       "       [  0,   0,   0,   0,   0,   0,   0,  18, 219, 253, 253, 253, 253, 253, 198, 182, 247, 241,   0,   0,   0,   0,   0,   0,   0,   0,   0,   0],\n",
       "       [  0,   0,   0,   0,   0,   0,   0,   0,  80, 156, 107, 253, 253, 205,  11,   0,  43, 154,   0,   0,   0,   0,   0,   0,   0,   0,   0,   0],\n",
       "       [  0,   0,   0,   0,   0,   0,   0,   0,   0,  14,   1, 154, 253,  90,   0,   0,   0,   0,   0,   0,   0,   0,   0,   0,   0,   0,   0,   0],\n",
       "       [  0,   0,   0,   0,   0,   0,   0,   0,   0,   0,   0, 139, 253, 190,   2,   0,   0,   0,   0,   0,   0,   0,   0,   0,   0,   0,   0,   0],\n",
       "       [  0,   0,   0,   0,   0,   0,   0,   0,   0,   0,   0,  11, 190, 253,  70,   0,   0,   0,   0,   0,   0,   0,   0,   0,   0,   0,   0,   0],\n",
       "       [  0,   0,   0,   0,   0,   0,   0,   0,   0,   0,   0,   0,  35, 241, 225, 160, 108,   1,   0,   0,   0,   0,   0,   0,   0,   0,   0,   0],\n",
       "       [  0,   0,   0,   0,   0,   0,   0,   0,   0,   0,   0,   0,   0,  81, 240, 253, 253, 119,  25,   0,   0,   0,   0,   0,   0,   0,   0,   0],\n",
       "       [  0,   0,   0,   0,   0,   0,   0,   0,   0,   0,   0,   0,   0,   0,  45, 186, 253, 253, 150,  27,   0,   0,   0,   0,   0,   0,   0,   0],\n",
       "       [  0,   0,   0,   0,   0,   0,   0,   0,   0,   0,   0,   0,   0,   0,   0,  16,  93, 252, 253, 187,   0,   0,   0,   0,   0,   0,   0,   0],\n",
       "       [  0,   0,   0,   0,   0,   0,   0,   0,   0,   0,   0,   0,   0,   0,   0,   0,   0, 249, 253, 249,  64,   0,   0,   0,   0,   0,   0,   0],\n",
       "       [  0,   0,   0,   0,   0,   0,   0,   0,   0,   0,   0,   0,   0,   0,  46, 130, 183, 253, 253, 207,   2,   0,   0,   0,   0,   0,   0,   0],\n",
       "       [  0,   0,   0,   0,   0,   0,   0,   0,   0,   0,   0,   0,  39, 148, 229, 253, 253, 253, 250, 182,   0,   0,   0,   0,   0,   0,   0,   0],\n",
       "       [  0,   0,   0,   0,   0,   0,   0,   0,   0,   0,  24, 114, 221, 253, 253, 253, 253, 201,  78,   0,   0,   0,   0,   0,   0,   0,   0,   0],\n",
       "       [  0,   0,   0,   0,   0,   0,   0,   0,  23,  66, 213, 253, 253, 253, 253, 198,  81,   2,   0,   0,   0,   0,   0,   0,   0,   0,   0,   0],\n",
       "       [  0,   0,   0,   0,   0,   0,  18, 171, 219, 253, 253, 253, 253, 195,  80,   9,   0,   0,   0,   0,   0,   0,   0,   0,   0,   0,   0,   0],\n",
       "       [  0,   0,   0,   0,  55, 172, 226, 253, 253, 253, 253, 244, 133,  11,   0,   0,   0,   0,   0,   0,   0,   0,   0,   0,   0,   0,   0,   0],\n",
       "       [  0,   0,   0,   0, 136, 253, 253, 253, 212, 135, 132,  16,   0,   0,   0,   0,   0,   0,   0,   0,   0,   0,   0,   0,   0,   0,   0,   0],\n",
       "       [  0,   0,   0,   0,   0,   0,   0,   0,   0,   0,   0,   0,   0,   0,   0,   0,   0,   0,   0,   0,   0,   0,   0,   0,   0,   0,   0,   0],\n",
       "       [  0,   0,   0,   0,   0,   0,   0,   0,   0,   0,   0,   0,   0,   0,   0,   0,   0,   0,   0,   0,   0,   0,   0,   0,   0,   0,   0,   0],\n",
       "       [  0,   0,   0,   0,   0,   0,   0,   0,   0,   0,   0,   0,   0,   0,   0,   0,   0,   0,   0,   0,   0,   0,   0,   0,   0,   0,   0,   0]], dtype=uint8)"
      ]
     },
     "execution_count": 9,
     "metadata": {},
     "output_type": "execute_result"
    }
   ],
   "source": [
    "x_train[0]"
   ]
  },
  {
   "cell_type": "code",
   "execution_count": 10,
   "id": "30b80705",
   "metadata": {},
   "outputs": [],
   "source": [
    "import matplotlib.pyplot as plt"
   ]
  },
  {
   "cell_type": "code",
   "execution_count": 11,
   "id": "7b42e982",
   "metadata": {},
   "outputs": [
    {
     "data": {
      "text/plain": [
       "<matplotlib.image.AxesImage at 0x175aa8dfc70>"
      ]
     },
     "execution_count": 11,
     "metadata": {},
     "output_type": "execute_result"
    },
    {
     "data": {
      "image/png": "[encoded data removed]",
      "text/plain": [
       "<Figure size 432x288 with 1 Axes>"
      ]
     },
     "metadata": {
      "needs_background": "light"
     },
     "output_type": "display_data"
    }
   ],
   "source": [
    "plt.imshow(x_train[0], cmap=plt.get_cmap('gray'))"
   ]
  },
  {
   "cell_type": "code",
   "execution_count": 12,
   "id": "cc667dad",
   "metadata": {},
   "outputs": [],
   "source": [
    "# 정규화, 표준화, 축소\n",
    "x_train = x_train / 255.0\n",
    "x_test = x_test / 255.0"
   ]
  },
  {
   "cell_type": "code",
   "execution_count": 13,
   "id": "e0f505d5",
   "metadata": {},
   "outputs": [],
   "source": [
    "from tensorflow.keras.models import Sequential\n",
    "from tensorflow.keras.layers import Flatten\n",
    "from tensorflow.keras.layers import Dense\n",
    "from tensorflow.keras.layers import Dropout"
   ]
  },
  {
   "cell_type": "code",
   "execution_count": 14,
   "id": "4c3f5317",
   "metadata": {},
   "outputs": [],
   "source": [
    "model = Sequential()\n",
    "model.add(Flatten(input_shape=(28, 28)))  # 28*28 이미지를 1차원으로 변형, 1차원 : 784\n",
    "model.add(Dense(128, activation='relu'))\n",
    "model.add(Dropout(0.2))  # overfitting을 막기 위해 Dropout 20% 적용\n",
    "model.add(Dense(10, activation='softmax'))  # 10 : 0~9 중에 하나를 맞춘다. (0~9) 각각의 확률을 0.0~1.0 사이로 리턴"
   ]
  },
  {
   "cell_type": "code",
   "execution_count": 15,
   "id": "809f2e27",
   "metadata": {},
   "outputs": [
    {
     "name": "stdout",
     "output_type": "stream",
     "text": [
      "Model: \"sequential\"\n",
      "_________________________________________________________________\n",
      "Layer (type)                 Output Shape              Param #   \n",
      "=================================================================\n",
      "flatten (Flatten)            (None, 784)               0         \n",
      "_________________________________________________________________\n",
      "dense (Dense)                (None, 128)               100480    \n",
      "_________________________________________________________________\n",
      "dropout (Dropout)            (None, 128)               0         \n",
      "_________________________________________________________________\n",
      "dense_1 (Dense)              (None, 10)                1290      \n",
      "=================================================================\n",
      "Total params: 101,770\n",
      "Trainable params: 101,770\n",
      "Non-trainable params: 0\n",
      "_________________________________________________________________\n"
     ]
    }
   ],
   "source": [
    "model.summary() # 요약 정보"
   ]
  },
  {
   "cell_type": "code",
   "execution_count": 16,
   "id": "1d7a312c",
   "metadata": {},
   "outputs": [],
   "source": [
    "# 모델 설정\n",
    "model.compile(optimizer='adam', loss='sparse_categorical_crossentropy', metrics=['accuracy'])"
   ]
  },
  {
   "cell_type": "code",
   "execution_count": 17,
   "id": "68f2ff88",
   "metadata": {},
   "outputs": [
    {
     "name": "stdout",
     "output_type": "stream",
     "text": [
      "Epoch 1/5\n",
      "1875/1875 [==============================] - 2s 959us/step - loss: 0.2945 - accuracy: 0.9144\n",
      "Epoch 2/5\n",
      "1875/1875 [==============================] - 2s 1ms/step - loss: 0.1438 - accuracy: 0.9580\n",
      "Epoch 3/5\n",
      "1875/1875 [==============================] - 2s 896us/step - loss: 0.1091 - accuracy: 0.9668\n",
      "Epoch 4/5\n",
      "1875/1875 [==============================] - 2s 886us/step - loss: 0.0876 - accuracy: 0.9725\n",
      "Epoch 5/5\n",
      "1875/1875 [==============================] - 2s 905us/step - loss: 0.0757 - accuracy: 0.9765\n"
     ]
    },
    {
     "data": {
      "text/plain": [
       "<tensorflow.python.keras.callbacks.History at 0x175a9a84bb0>"
      ]
     },
     "execution_count": 17,
     "metadata": {},
     "output_type": "execute_result"
    }
   ],
   "source": [
    "# 훈련\n",
    "model.fit(x_train, y_train, epochs=5)"
   ]
  },
  {
   "cell_type": "code",
   "execution_count": 18,
   "id": "bd87dd2c",
   "metadata": {},
   "outputs": [
    {
     "name": "stdout",
     "output_type": "stream",
     "text": [
      "313/313 [==============================] - 0s 650us/step - loss: 0.0737 - accuracy: 0.9771\n"
     ]
    },
    {
     "data": {
      "text/plain": [
       "[0.07370293885469437, 0.9771000146865845]"
      ]
     },
     "execution_count": 18,
     "metadata": {},
     "output_type": "execute_result"
    }
   ],
   "source": [
    "# 점수\n",
    "model.evaluate(x_test, y_test)\n",
    "# [0.07370293885469437, 0.9771000146865845] ==> [비용 정확도]"
   ]
  },
  {
   "cell_type": "code",
   "execution_count": null,
   "id": "3320eb26",
   "metadata": {},
   "outputs": [],
   "source": []
  },
  {
   "cell_type": "code",
   "execution_count": 19,
   "id": "6f46a123",
   "metadata": {},
   "outputs": [],
   "source": [
    "# CNN 실습"
   ]
  },
  {
   "cell_type": "code",
   "execution_count": 20,
   "id": "17b34daa",
   "metadata": {},
   "outputs": [],
   "source": [
    "import warnings\n",
    "warnings.filterwarnings('ignore')"
   ]
  },
  {
   "cell_type": "code",
   "execution_count": 22,
   "id": "90d58ec0",
   "metadata": {},
   "outputs": [],
   "source": [
    "import numpy as np\n",
    "import pandas as pd\n",
    "import matplotlib.pyplot as plt\n",
    "import seaborn as sns"
   ]
  },
  {
   "cell_type": "code",
   "execution_count": 23,
   "id": "345d531b",
   "metadata": {},
   "outputs": [],
   "source": [
    "import tensorflow"
   ]
  },
  {
   "cell_type": "code",
   "execution_count": 24,
   "id": "7e70ce47",
   "metadata": {},
   "outputs": [],
   "source": [
    "mnist = tensorflow.keras.datasets.mnist"
   ]
  },
  {
   "cell_type": "code",
   "execution_count": 25,
   "id": "15edf808",
   "metadata": {},
   "outputs": [],
   "source": [
    "(x_train, y_train), (x_test, y_test) = mnist.load_data()"
   ]
  },
  {
   "cell_type": "code",
   "execution_count": 27,
   "id": "a43b724e",
   "metadata": {},
   "outputs": [],
   "source": [
    "from tensorflow.keras.models import Sequential\n",
    "from tensorflow.keras.layers import Dense\n",
    "from tensorflow.keras.layers import Flatten\n",
    "from tensorflow.keras.layers import Dropout\n",
    "from tensorflow.keras.layers import Conv2D\n",
    "from tensorflow.keras.layers import MaxPool2D"
   ]
  },
  {
   "cell_type": "code",
   "execution_count": 28,
   "id": "35419bbf",
   "metadata": {},
   "outputs": [
    {
     "data": {
      "text/plain": [
       "(60000, 28, 28)"
      ]
     },
     "execution_count": 28,
     "metadata": {},
     "output_type": "execute_result"
    }
   ],
   "source": [
    "x_train.shape  # 3차원"
   ]
  },
  {
   "cell_type": "code",
   "execution_count": 30,
   "id": "c4015c17",
   "metadata": {},
   "outputs": [],
   "source": [
    "# 3차원 ==> 4차원 으로 변형\n",
    "x_train = x_train.reshape(x_train.shape[0], 28, 28, 1) # 1은 흑백, 3은 칼라"
   ]
  },
  {
   "cell_type": "code",
   "execution_count": 31,
   "id": "fd10b0bd",
   "metadata": {},
   "outputs": [
    {
     "data": {
      "text/plain": [
       "(60000, 28, 28, 1)"
      ]
     },
     "execution_count": 31,
     "metadata": {},
     "output_type": "execute_result"
    }
   ],
   "source": [
    "x_train.shape"
   ]
  },
  {
   "cell_type": "code",
   "execution_count": 32,
   "id": "bbe1bd62",
   "metadata": {},
   "outputs": [
    {
     "data": {
      "text/plain": [
       "(10000, 28, 28)"
      ]
     },
     "execution_count": 32,
     "metadata": {},
     "output_type": "execute_result"
    }
   ],
   "source": [
    "x_test.shape"
   ]
  },
  {
   "cell_type": "code",
   "execution_count": 33,
   "id": "d8f6c3f9",
   "metadata": {},
   "outputs": [],
   "source": [
    "x_test = x_test.reshape(x_test.shape[0], 28, 28, 1)"
   ]
  },
  {
   "cell_type": "code",
   "execution_count": 34,
   "id": "7bcd33c4",
   "metadata": {},
   "outputs": [
    {
     "data": {
      "text/plain": [
       "(10000, 28, 28, 1)"
      ]
     },
     "execution_count": 34,
     "metadata": {},
     "output_type": "execute_result"
    }
   ],
   "source": [
    "x_test.shape"
   ]
  },
  {
   "cell_type": "code",
   "execution_count": 35,
   "id": "09032e9f",
   "metadata": {},
   "outputs": [],
   "source": [
    "# 정규화\n",
    "x_train = x_train.astype('float') / 255\n",
    "x_test = x_test.astype('float') / 255"
   ]
  },
  {
   "cell_type": "code",
   "execution_count": 37,
   "id": "af304a87",
   "metadata": {},
   "outputs": [],
   "source": [
    "# 모델 설계\n",
    "model = Sequential()\n",
    "model.add(Conv2D(64, (3,3), activation='relu', padding='same', input_shape=(28, 28, 1))) # 1층만 input_shape\n",
    "model.add(Conv2D(64, (3,3), activation='relu', padding='same'))\n",
    "model.add(MaxPool2D())  # 이미지 크기 : 14 X 14\n",
    "model.add(Conv2D(128, (3,3), activation='relu', padding='same'))\n",
    "model.add(Conv2D(128, (3,3), activation='relu', padding='same'))\n",
    "model.add(MaxPool2D())  # 이미지 크기 : 7 X 7\n",
    "model.add(Flatten())  # 3차원 ==> 1차원\n",
    "model.add(Dense(128, activation='relu'))\n",
    "model.add(Dropout(0.2))\n",
    "model.add(Dense(128, activation='relu'))\n",
    "model.add(Dropout(0.5))\n",
    "model.add(Dense(10, activation='softmax'))  # 마지막 층, softmax를 쓰면 각각의 확률이 출력됨!"
   ]
  },
  {
   "cell_type": "code",
   "execution_count": 38,
   "id": "d48a2118",
   "metadata": {},
   "outputs": [],
   "source": [
    "# 모델 설정\n",
    "model.compile(optimizer='adam', loss='sparse_categorical_crossentropy', metrics=['accuracy'])"
   ]
  },
  {
   "cell_type": "code",
   "execution_count": 39,
   "id": "d78acf8b",
   "metadata": {},
   "outputs": [
    {
     "name": "stdout",
     "output_type": "stream",
     "text": [
      "Epoch 1/3\n",
      "235/235 [==============================] - 151s 643ms/step - loss: 0.3027 - accuracy: 0.9052 - val_loss: 0.0443 - val_accuracy: 0.9860\n",
      "Epoch 2/3\n",
      "235/235 [==============================] - 153s 651ms/step - loss: 0.0708 - accuracy: 0.9815 - val_loss: 0.0309 - val_accuracy: 0.9905\n",
      "Epoch 3/3\n",
      "235/235 [==============================] - 145s 618ms/step - loss: 0.0493 - accuracy: 0.9862 - val_loss: 0.0231 - val_accuracy: 0.9924\n",
      "Wall time: 7min 31s\n"
     ]
    }
   ],
   "source": [
    "%%time\n",
    "# Wall time: 7min 31s\n",
    "# 훈련\n",
    "hist = model.fit(x_train, y_train, validation_data=(x_test, y_test), epochs=3, batch_size=256)"
   ]
  },
  {
   "cell_type": "code",
   "execution_count": 41,
   "id": "da836226",
   "metadata": {},
   "outputs": [],
   "source": [
    "# model.get_weights()"
   ]
  },
  {
   "cell_type": "code",
   "execution_count": 44,
   "id": "8612b043",
   "metadata": {},
   "outputs": [
    {
     "data": {
      "image/png": "[encoded data removed]",
      "text/plain": [
       "<Figure size 864x576 with 1 Axes>"
      ]
     },
     "metadata": {
      "needs_background": "light"
     },
     "output_type": "display_data"
    }
   ],
   "source": [
    "# 시각화\n",
    "plt.figure(figsize=(12, 8))\n",
    "plt.plot(hist.history['loss'])\n",
    "plt.plot(hist.history['val_loss'])\n",
    "plt.plot(hist.history['accuracy'])\n",
    "plt.plot(hist.history['val_accuracy'])\n",
    "plt.legend(['loss', 'val_loss', 'accuracy', 'val_accuracy'])\n",
    "plt.show()"
   ]
  },
  {
   "cell_type": "code",
   "execution_count": null,
   "id": "cfb9253b",
   "metadata": {},
   "outputs": [],
   "source": []
  },
  {
   "cell_type": "code",
   "execution_count": 45,
   "id": "7f05d2d5",
   "metadata": {},
   "outputs": [],
   "source": [
    "# RNN( LSTM ) 실습 : 비트 코인 가격 예측"
   ]
  },
  {
   "cell_type": "code",
   "execution_count": 46,
   "id": "e27f9c32",
   "metadata": {},
   "outputs": [],
   "source": [
    "import numpy as np\n",
    "import pandas as pd\n",
    "import matplotlib.pyplot as plt\n",
    "import seaborn as sns"
   ]
  },
  {
   "cell_type": "code",
   "execution_count": 47,
   "id": "c688a44d",
   "metadata": {},
   "outputs": [],
   "source": [
    "from tensorflow.keras.models import Sequential\n",
    "from tensorflow.keras.layers import Dense\n",
    "from tensorflow.keras.layers import Dropout\n",
    "from tensorflow.keras.layers import LSTM"
   ]
  },
  {
   "cell_type": "code",
   "execution_count": 48,
   "id": "36a3304d",
   "metadata": {},
   "outputs": [
    {
     "data": {
      "text/html": [
       "<div>\n",
       "<style scoped>\n",
       "    .dataframe tbody tr th:only-of-type {\n",
       "        vertical-align: middle;\n",
       "    }\n",
       "\n",
       "    .dataframe tbody tr th {\n",
       "        vertical-align: top;\n",
       "    }\n",
       "\n",
       "    .dataframe thead th {\n",
       "        text-align: right;\n",
       "    }\n",
       "</style>\n",
       "<table border=\"1\" class=\"dataframe\">\n",
       "  <thead>\n",
       "    <tr style=\"text-align: right;\">\n",
       "      <th></th>\n",
       "      <th>close</th>\n",
       "      <th>date</th>\n",
       "      <th>high</th>\n",
       "      <th>low</th>\n",
       "      <th>open</th>\n",
       "      <th>quoteVolume</th>\n",
       "      <th>volume</th>\n",
       "      <th>weightedAverage</th>\n",
       "    </tr>\n",
       "  </thead>\n",
       "  <tbody>\n",
       "    <tr>\n",
       "      <th>0</th>\n",
       "      <td>0.003428</td>\n",
       "      <td>1424304000</td>\n",
       "      <td>244.000000</td>\n",
       "      <td>225.000000</td>\n",
       "      <td>225.000000</td>\n",
       "      <td>0.193117</td>\n",
       "      <td>4.627631e+01</td>\n",
       "      <td>239.627778</td>\n",
       "    </tr>\n",
       "    <tr>\n",
       "      <th>1</th>\n",
       "      <td>0.003231</td>\n",
       "      <td>1424390400</td>\n",
       "      <td>245.000000</td>\n",
       "      <td>240.250000</td>\n",
       "      <td>240.250118</td>\n",
       "      <td>0.230429</td>\n",
       "      <td>5.589490e+01</td>\n",
       "      <td>242.568479</td>\n",
       "    </tr>\n",
       "    <tr>\n",
       "      <th>2</th>\n",
       "      <td>0.003480</td>\n",
       "      <td>1424476800</td>\n",
       "      <td>245.000000</td>\n",
       "      <td>245.000000</td>\n",
       "      <td>245.000000</td>\n",
       "      <td>0.060091</td>\n",
       "      <td>1.472224e+01</td>\n",
       "      <td>245.000000</td>\n",
       "    </tr>\n",
       "    <tr>\n",
       "      <th>3</th>\n",
       "      <td>0.002955</td>\n",
       "      <td>1424563200</td>\n",
       "      <td>249.000000</td>\n",
       "      <td>235.000000</td>\n",
       "      <td>245.000000</td>\n",
       "      <td>0.539055</td>\n",
       "      <td>1.291212e+02</td>\n",
       "      <td>239.532608</td>\n",
       "    </tr>\n",
       "    <tr>\n",
       "      <th>4</th>\n",
       "      <td>0.002955</td>\n",
       "      <td>1424649600</td>\n",
       "      <td>235.001000</td>\n",
       "      <td>235.000000</td>\n",
       "      <td>235.000002</td>\n",
       "      <td>0.410926</td>\n",
       "      <td>9.656756e+01</td>\n",
       "      <td>235.000062</td>\n",
       "    </tr>\n",
       "    <tr>\n",
       "      <th>...</th>\n",
       "      <td>...</td>\n",
       "      <td>...</td>\n",
       "      <td>...</td>\n",
       "      <td>...</td>\n",
       "      <td>...</td>\n",
       "      <td>...</td>\n",
       "      <td>...</td>\n",
       "      <td>...</td>\n",
       "    </tr>\n",
       "    <tr>\n",
       "      <th>1139</th>\n",
       "      <td>0.379828</td>\n",
       "      <td>1522713600</td>\n",
       "      <td>7505.450000</td>\n",
       "      <td>7005.427096</td>\n",
       "      <td>7047.405427</td>\n",
       "      <td>2699.015224</td>\n",
       "      <td>1.981152e+07</td>\n",
       "      <td>7340.278123</td>\n",
       "    </tr>\n",
       "    <tr>\n",
       "      <th>1140</th>\n",
       "      <td>0.346100</td>\n",
       "      <td>1522800000</td>\n",
       "      <td>7414.666938</td>\n",
       "      <td>6684.316503</td>\n",
       "      <td>7406.145999</td>\n",
       "      <td>3178.492068</td>\n",
       "      <td>2.234900e+07</td>\n",
       "      <td>7031.322714</td>\n",
       "    </tr>\n",
       "    <tr>\n",
       "      <th>1141</th>\n",
       "      <td>0.346365</td>\n",
       "      <td>1522886400</td>\n",
       "      <td>6910.000000</td>\n",
       "      <td>6542.313932</td>\n",
       "      <td>6777.912878</td>\n",
       "      <td>2738.734808</td>\n",
       "      <td>1.849236e+07</td>\n",
       "      <td>6752.154445</td>\n",
       "    </tr>\n",
       "    <tr>\n",
       "      <th>1142</th>\n",
       "      <td>0.337888</td>\n",
       "      <td>1522972800</td>\n",
       "      <td>6847.592164</td>\n",
       "      <td>6499.982992</td>\n",
       "      <td>6775.000000</td>\n",
       "      <td>1976.904608</td>\n",
       "      <td>1.306531e+07</td>\n",
       "      <td>6608.971509</td>\n",
       "    </tr>\n",
       "    <tr>\n",
       "      <th>1143</th>\n",
       "      <td>0.350881</td>\n",
       "      <td>1523059200</td>\n",
       "      <td>6923.470964</td>\n",
       "      <td>6599.246312</td>\n",
       "      <td>6614.992919</td>\n",
       "      <td>1117.453689</td>\n",
       "      <td>7.647695e+06</td>\n",
       "      <td>6843.858300</td>\n",
       "    </tr>\n",
       "  </tbody>\n",
       "</table>\n",
       "<p>1144 rows × 8 columns</p>\n",
       "</div>"
      ],
      "text/plain": [
       "         close        date         high          low         open  \\\n",
       "0     0.003428  1424304000   244.000000   225.000000   225.000000   \n",
       "1     0.003231  1424390400   245.000000   240.250000   240.250118   \n",
       "2     0.003480  1424476800   245.000000   245.000000   245.000000   \n",
       "3     0.002955  1424563200   249.000000   235.000000   245.000000   \n",
       "4     0.002955  1424649600   235.001000   235.000000   235.000002   \n",
       "...        ...         ...          ...          ...          ...   \n",
       "1139  0.379828  1522713600  7505.450000  7005.427096  7047.405427   \n",
       "1140  0.346100  1522800000  7414.666938  6684.316503  7406.145999   \n",
       "1141  0.346365  1522886400  6910.000000  6542.313932  6777.912878   \n",
       "1142  0.337888  1522972800  6847.592164  6499.982992  6775.000000   \n",
       "1143  0.350881  1523059200  6923.470964  6599.246312  6614.992919   \n",
       "\n",
       "      quoteVolume        volume  weightedAverage  \n",
       "0        0.193117  4.627631e+01       239.627778  \n",
       "1        0.230429  5.589490e+01       242.568479  \n",
       "2        0.060091  1.472224e+01       245.000000  \n",
       "3        0.539055  1.291212e+02       239.532608  \n",
       "4        0.410926  9.656756e+01       235.000062  \n",
       "...           ...           ...              ...  \n",
       "1139  2699.015224  1.981152e+07      7340.278123  \n",
       "1140  3178.492068  2.234900e+07      7031.322714  \n",
       "1141  2738.734808  1.849236e+07      6752.154445  \n",
       "1142  1976.904608  1.306531e+07      6608.971509  \n",
       "1143  1117.453689  7.647695e+06      6843.858300  \n",
       "\n",
       "[1144 rows x 8 columns]"
      ]
     },
     "execution_count": 48,
     "metadata": {},
     "output_type": "execute_result"
    }
   ],
   "source": [
    "df = pd.read_csv(\"data/bit01.csv\")\n",
    "df"
   ]
  },
  {
   "cell_type": "code",
   "execution_count": 49,
   "id": "49ecf6ec",
   "metadata": {},
   "outputs": [
    {
     "data": {
      "text/plain": [
       "0       0.003428\n",
       "1       0.003231\n",
       "2       0.003480\n",
       "3       0.002955\n",
       "4       0.002955\n",
       "          ...   \n",
       "1139    0.379828\n",
       "1140    0.346100\n",
       "1141    0.346365\n",
       "1142    0.337888\n",
       "1143    0.350881\n",
       "Name: close, Length: 1144, dtype: float64"
      ]
     },
     "execution_count": 49,
     "metadata": {},
     "output_type": "execute_result"
    }
   ],
   "source": [
    "price = df['close']\n",
    "price"
   ]
  },
  {
   "cell_type": "code",
   "execution_count": 50,
   "id": "ada74f00",
   "metadata": {},
   "outputs": [],
   "source": [
    "window_size = 5\n",
    "X = []\n",
    "y = []\n",
    "for i in range(len(price) - window_size):  # 1144 - 5 ==> 1139\n",
    "    X.append(price.iloc[i:i+window_size]) # 0:5 => [0,1,2,3,4]\n",
    "    y.append(price.iloc[i+window_size])   # 5   => [5]"
   ]
  },
  {
   "cell_type": "code",
   "execution_count": 51,
   "id": "12868614",
   "metadata": {},
   "outputs": [],
   "source": [
    "X = np.array(X)\n",
    "y = np.array(y)"
   ]
  },
  {
   "cell_type": "code",
   "execution_count": 52,
   "id": "670eb870",
   "metadata": {},
   "outputs": [
    {
     "data": {
      "text/plain": [
       "(1139, 5)"
      ]
     },
     "execution_count": 52,
     "metadata": {},
     "output_type": "execute_result"
    }
   ],
   "source": [
    "X.shape"
   ]
  },
  {
   "cell_type": "code",
   "execution_count": 53,
   "id": "aa798df9",
   "metadata": {},
   "outputs": [
    {
     "data": {
      "text/plain": [
       "array([0.00342784, 0.00323093, 0.00348035, 0.00295525, 0.00295525])"
      ]
     },
     "execution_count": 53,
     "metadata": {},
     "output_type": "execute_result"
    }
   ],
   "source": [
    "X[0]"
   ]
  },
  {
   "cell_type": "code",
   "execution_count": 54,
   "id": "1d0fe166",
   "metadata": {},
   "outputs": [
    {
     "data": {
      "text/plain": [
       "(1139,)"
      ]
     },
     "execution_count": 54,
     "metadata": {},
     "output_type": "execute_result"
    }
   ],
   "source": [
    "y.shape"
   ]
  },
  {
   "cell_type": "code",
   "execution_count": 55,
   "id": "d84a873c",
   "metadata": {},
   "outputs": [
    {
     "data": {
      "text/plain": [
       "0.0032046727572156"
      ]
     },
     "execution_count": 55,
     "metadata": {},
     "output_type": "execute_result"
    }
   ],
   "source": [
    "y[0]"
   ]
  },
  {
   "cell_type": "code",
   "execution_count": 56,
   "id": "511f0df0",
   "metadata": {},
   "outputs": [],
   "source": [
    "# 훈련 데이터와 테스트 데이터로 분리\n",
    "split_val = 1000\n",
    "X_train = X[:split_val, :] # 행 0:1000, 열 전체\n",
    "y_train = y[:split_val]    # 0:1000 ==> 0~999\n",
    "X_test = X[split_val:, :]  # 행 1000:끝까지, 열 전체\n",
    "y_test = y[split_val:]     # 1000부터 끝까지"
   ]
  },
  {
   "cell_type": "code",
   "execution_count": 57,
   "id": "0c5bce47",
   "metadata": {},
   "outputs": [
    {
     "data": {
      "text/plain": [
       "(1000, 5, 1)"
      ]
     },
     "execution_count": 57,
     "metadata": {},
     "output_type": "execute_result"
    }
   ],
   "source": [
    "# X_train 을 변형 : (1000, 5) ==> (1000, 5, 1)\n",
    "X_train = np.reshape(X_train, (X_train.shape[0], window_size, 1))\n",
    "X_train.shape\n",
    "# 총 갯수(행의 수), 열의 수, 정답 y의 차원 : 1"
   ]
  },
  {
   "cell_type": "code",
   "execution_count": 58,
   "id": "851b11c7",
   "metadata": {},
   "outputs": [
    {
     "data": {
      "text/plain": [
       "(139, 5)"
      ]
     },
     "execution_count": 58,
     "metadata": {},
     "output_type": "execute_result"
    }
   ],
   "source": [
    "X_test.shape"
   ]
  },
  {
   "cell_type": "code",
   "execution_count": 59,
   "id": "29a7a821",
   "metadata": {},
   "outputs": [
    {
     "data": {
      "text/plain": [
       "(139, 5, 1)"
      ]
     },
     "execution_count": 59,
     "metadata": {},
     "output_type": "execute_result"
    }
   ],
   "source": [
    "X_test = np.reshape(X_test, (X_test.shape[0], window_size, 1)) # (139, 5) ==> (139, 5, 1)\n",
    "X_test.shape"
   ]
  },
  {
   "cell_type": "code",
   "execution_count": 60,
   "id": "01523e08",
   "metadata": {},
   "outputs": [],
   "source": [
    "### 전처리 끝 : 훈련 데이터와 테스트 데이터 준비 완료"
   ]
  },
  {
   "cell_type": "code",
   "execution_count": 62,
   "id": "31d1b19a",
   "metadata": {},
   "outputs": [],
   "source": [
    "model = Sequential()\n",
    "model.add(LSTM(128, input_shape=(5, 1))) # 5개의 X를 가지고 1개의 y를 맞춘다.\n",
    "model.add(Dropout(0.2))\n",
    "model.add(Dense(1, activation='linear'))\n",
    "model.compile(loss='mse', optimizer='adam')"
   ]
  },
  {
   "cell_type": "code",
   "execution_count": 63,
   "id": "d4a4d363",
   "metadata": {},
   "outputs": [
    {
     "name": "stdout",
     "output_type": "stream",
     "text": [
      "Epoch 1/3\n",
      "1000/1000 [==============================] - 2s 2ms/step - loss: 4.4714e-04\n",
      "Epoch 2/3\n",
      "1000/1000 [==============================] - 2s 2ms/step - loss: 2.4099e-04\n",
      "Epoch 3/3\n",
      "1000/1000 [==============================] - 2s 2ms/step - loss: 2.5054e-04\n",
      "Wall time: 6.45 s\n"
     ]
    },
    {
     "data": {
      "text/plain": [
       "<tensorflow.python.keras.callbacks.History at 0x175b37d7a00>"
      ]
     },
     "execution_count": 63,
     "metadata": {},
     "output_type": "execute_result"
    }
   ],
   "source": [
    "%%time\n",
    "model.fit(X_train, y_train, epochs=3, batch_size=1)"
   ]
  },
  {
   "cell_type": "code",
   "execution_count": 64,
   "id": "d51db512",
   "metadata": {},
   "outputs": [],
   "source": [
    "train_predict = model.predict(X_train)"
   ]
  },
  {
   "cell_type": "code",
   "execution_count": 65,
   "id": "577f3bc2",
   "metadata": {},
   "outputs": [],
   "source": [
    "test_predict = model.predict(X_test)"
   ]
  },
  {
   "cell_type": "code",
   "execution_count": 68,
   "id": "9d39593d",
   "metadata": {},
   "outputs": [
    {
     "data": {
      "image/png": "[encoded data removed]",
      "text/plain": [
       "<Figure size 1080x720 with 1 Axes>"
      ]
     },
     "metadata": {
      "needs_background": "light"
     },
     "output_type": "display_data"
    }
   ],
   "source": [
    "# 시각화\n",
    "plt.figure(figsize=(15, 10))\n",
    "plt.plot(price, color='blue')\n",
    "split_pt = split_val + window_size  # 1000 + 5 ==> 1005\n",
    "plt.plot(np.arange(window_size, split_pt, 1), train_predict, color='orange')\n",
    "plt.plot(np.arange(split_pt, split_pt+len(test_predict), 1), test_predict, color='green')\n",
    "plt.show()"
   ]
  },
  {
   "cell_type": "code",
   "execution_count": 69,
   "id": "85bf7fe0",
   "metadata": {},
   "outputs": [],
   "source": [
    "# end"
   ]
  }
 ],
 "metadata": {
  "kernelspec": {
   "display_name": "Python 3",
   "language": "python",
   "name": "python3"
  },
  "language_info": {
   "codemirror_mode": {
    "name": "ipython",
    "version": 3
   },
   "file_extension": ".py",
   "mimetype": "text/x-python",
   "name": "python",
   "nbconvert_exporter": "python",
   "pygments_lexer": "ipython3",
   "version": "3.8.8"
  }
 },
 "nbformat": 4,
 "nbformat_minor": 5
}
